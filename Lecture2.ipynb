{
 "cells": [
  {
   "cell_type": "markdown",
   "metadata": {},
   "source": [
    "# Lecture 2, Solving ODE's\n",
    "\n",
    "There are a number of question marks \"?\" throughout the markdown section of this notebook. You are responsible for filling those sections in. \n",
    "\n",
    "**MORE TESTS**\n",
    "**Overview:**\n",
    "* Solving initial value problems, a simple example\n",
    "* Survey of methods.\n",
    "* Errors and numerical stability\n",
    "    * Reading: Newman chapter 4.\n",
    "\n",
    "**Next Lecture:** Solving systems of coupled ODE's and Newtons 2nd law.\n",
    "\n",
    "---"
   ]
  },
  {
   "cell_type": "markdown",
   "metadata": {},
   "source": [
    "## Simple Example, an RC circuit. \n",
    "We have a simple RC circuit, as shown below. After a long charge with the switch in position 1 it is flipped to position 2. What is the time dependence of the charge across $C$?\n",
    "\n",
    "![RC circuit](./figs/Lecture2_circuit.png)\n",
    "\n",
    "\n",
    "\n",
    "\n",
    "\n",
    "\n",
    "\n",
    "\n",
    "\n"
   ]
  },
  {
   "cell_type": "markdown",
   "metadata": {},
   "source": [
    "Using Kirchoff's laws, determine the 1st order ODE we need to solve for $Q(t)$:\n",
    "\n",
    "$$\\frac{dQ}{dt} = -\\frac{1}{RC}Q $$\n",
    "\n",
    "What is the closed form solution of this equation:\n",
    "$$ Q(t) = Q_0 e^{-\\frac{t}{RC}} $$"
   ]
  },
  {
   "cell_type": "markdown",
   "metadata": {},
   "source": [
    "In this case the problem was easy to solve. However, there are many cases of such problems, formulated as ordinary differential equations, where the solution is not so easy (or even impossible) to find. So how might we approximate the solution to this problem and solve numerically?\n",
    "\n",
    "An obvious thing to try is to Taylor expand $Q(t)$ for small $\\Delta t$ around $t=0$\n",
    "\n",
    "$$ Q(\\Delta t) = Q(0) + \\frac{dQ}{dt}\\Delta t + \\frac{1}{2}\\frac{d^2Q}{dt^2}(\\Delta t)^2 + \\dots $$\n",
    "\n",
    "If $\\Delta t$ is very small, then it is usually a good approximation to ignore terms that involve second and higher powers of $\\Delta t$\n",
    "\n",
    "$$ Q(\\Delta t) \\approx Q(0) + \\frac{dQ}{dt}\\Delta t$$\n",
    "\n",
    "and we know the functional form of the derivative. It is given by the original ODE! We now have:\n",
    "\n",
    "$$ Q(t + \\Delta t) \\approx Q(t) - \\frac{dQ}{dt} \\Delta t $$\n",
    "\n",
    "This is the general strategy for solving ODE's on a computer. By Taylor expanding we have taken a problem defined on a continuous variable $t$, and transformed it to an approximate problem defined on a discrete variable $\\Delta t$. This is always necessary since computers only operate on discrete quantities.\n",
    "\n",
    "---"
   ]
  },
  {
   "cell_type": "markdown",
   "metadata": {},
   "source": [
    "## Methods for ODE's\n",
    "\n",
    "To understand our approximate methods, we work with a single ordinary differential equation.\n",
    "$$\\frac{dx}{dt}=g(x,t)$$\n",
    "where $x(t)$ is the solution we seek and $g(x,t)$ is a well-behaved but otherwise arbitrary function.\n",
    "\n",
    "If we know $x(t)$ we could determine $g(t+\\Delta t)$ from the Taylor series:\n",
    "$$x(t+\\Delta t) = x(t) + \\frac{dx}{dt}\\Delta t + \\frac{d^2x}{dt^2}\\frac{(\\Delta t)^2}{2!} + \\frac{d^3x}{dt^3}\\frac{\\Delta t^2}{3!} + \\dots$$\n",
    "\n",
    "## Euler's method\n",
    "\n",
    "$$x(t_{n+1}) = x(t_{n}) + g(x_n,t_n)\\Delta t +O[(\\Delta t)^2].$$\n",
    "\n",
    "where $x_n$ is the the value of our solution at time point $t_n$ and discrete step $n$."
   ]
  },
  {
   "cell_type": "markdown",
   "metadata": {},
   "source": [
    "## Improved accuracy: Runge-Kutta methods\n",
    "\n",
    "### RK2:\n",
    "\n",
    "$$\n",
    "\\begin{align}\n",
    "k_1 &= \\Delta t g(x_n, t_n)\\\\\n",
    "k_2 &= \\Delta t g(x_n+1/2k_1, t_n+\\Delta t/2)\\\\\n",
    "x(t_{n+1}) &= x(t_n) + k_2\n",
    "\\end{align}\n",
    "$$\n",
    "\n",
    "\n",
    "### RK4:\n",
    "\n",
    "$$\n",
    "\\begin{align}\n",
    "k_1 &= \\Delta t g(x_n, t_n)\\\\\n",
    "k_2 &= \\Delta t g(x_n+1/2k_1, t_n+\\Delta t/2)\\\\\n",
    "k_3 &= \\Delta t g(x_n+1/2k_2, t_n+\\Delta t/2)\\\\\n",
    "k_4 &= \\Delta t g(x_n+k_3, t_n+\\Delta t)\\\\\n",
    "x(t_{n+1}) &= x(t_n) + \\frac{1}{6}(k_1+2k_2+2k_3+k_4)\n",
    "\\end{align}\n",
    "$$"
   ]
  },
  {
   "cell_type": "markdown",
   "metadata": {},
   "source": [
    "***\n",
    "## Pseudocode (for all methods):\n",
    "### Initialization\n",
    "* Assign initial values and constants: $x\\left(0\\right)$, $\\Delta t$, any constants in $g(x,t)$.\n",
    "* Set the number of time steps and the initial value of time.\n",
    "\n",
    "### Calculation\n",
    "* At time step $x_i$, calculate $x_{i+1}$ and $t_{i+1}$ at step $i+1$.\n",
    "* Increase to $t_i$ to the next time step $t_{i+1} = t_i + \\Delta t$.\n",
    "* repeat for $n-1$ time steps.\n",
    "\n",
    "### Analysis\n",
    "* store the values for $x_i$ and $t_i$ in a file. \n",
    "* plot results or use in subsequent calculation.\n",
    "\n",
    "***"
   ]
  },
  {
   "cell_type": "markdown",
   "metadata": {},
   "source": [
    "# Exercise\n",
    "\n",
    "1. Define a function for the exact solution of our simple RC circuit, $Q(t)$. This will be used to test the accuracy of our numerical methods. \n",
    "\n",
    "2. Define another function to find the solution of our differential equation numerically using an RK2 method.\n",
    "\n",
    "3. Using the functions in 1 and 2, plot the exact and approximate solutions over-top of each other for the range of time from $t$ = 0 to 10, and using the parameters: $R=1$, $C=1$, $Q_0=1$, and $\\Delta t$ = 0.1 .\n",
    "\n",
    "4. Finally, create a function to calculate and then plot the total cumulative error of our approximation as a function of the step size $\\Delta t$ from $\\Delta t$ = 0.001 to 10 over a time from $t$ = 0 to 10. How does this plot change with increasing final time?\n",
    "\n",
    "\n",
    "\n",
    "**You will find some starter code in the cells below**\n"
   ]
  },
  {
   "cell_type": "code",
   "execution_count": 1,
   "metadata": {},
   "outputs": [],
   "source": [
    "# it is good practice to include all import statements in the first code cell at the top of your workbook or script.\n",
    "import numpy as np\n",
    "import matplotlib.pyplot as plt\n",
    "\n",
    "# this is a so called \"magic\" function that allows for interactive plotting, \n",
    "# you will see below when we plot the results\n",
    "%matplotlib notebook  "
   ]
  },
  {
   "cell_type": "code",
   "execution_count": 4,
   "metadata": {},
   "outputs": [
    {
     "data": {
      "text/plain": [
       "4.5399929762484854e-05"
      ]
     },
     "execution_count": 4,
     "metadata": {},
     "output_type": "execute_result"
    }
   ],
   "source": [
    "#  Modify this function to output the exact solution for Q(t) from above\n",
    "# Q0 and t0 are the initial charge and time\n",
    "\n",
    "# Note the default argument for t0 = 0. Using this means we only have to pass a value for t0 to the function\n",
    "# if we want something different from 0\n",
    "\n",
    "def exact(t, R, C, Q0, t0 =0.0):\n",
    "    # !!!!!!!!!!!!!!!!!!!!!!!!!!!!!!!! exact solution here  !!!!!!!!!!!!!!!!!!!!!!!!!!!!!\n",
    "    Q = Q0*np.exp(-t/R/C)\n",
    "    return Q\n",
    "\n",
    "exact(10,1,1,1)"
   ]
  },
  {
   "cell_type": "code",
   "execution_count": 6,
   "metadata": {},
   "outputs": [
    {
     "data": {
      "text/plain": [
       "(array([ 0. ,  0.1,  0.2,  0.3,  0.4,  0.5,  0.6,  0.7,  0.8,  0.9,  1. ,\n",
       "         1.1,  1.2,  1.3,  1.4,  1.5,  1.6,  1.7,  1.8,  1.9,  2. ,  2.1,\n",
       "         2.2,  2.3,  2.4,  2.5,  2.6,  2.7,  2.8,  2.9,  3. ,  3.1,  3.2,\n",
       "         3.3,  3.4,  3.5,  3.6,  3.7,  3.8,  3.9,  4. ,  4.1,  4.2,  4.3,\n",
       "         4.4,  4.5,  4.6,  4.7,  4.8,  4.9,  5. ,  5.1,  5.2,  5.3,  5.4,\n",
       "         5.5,  5.6,  5.7,  5.8,  5.9,  6. ,  6.1,  6.2,  6.3,  6.4,  6.5,\n",
       "         6.6,  6.7,  6.8,  6.9,  7. ,  7.1,  7.2,  7.3,  7.4,  7.5,  7.6,\n",
       "         7.7,  7.8,  7.9,  8. ,  8.1,  8.2,  8.3,  8.4,  8.5,  8.6,  8.7,\n",
       "         8.8,  8.9,  9. ,  9.1,  9.2,  9.3,  9.4,  9.5,  9.6,  9.7,  9.8,\n",
       "         9.9]), array([  1.00000000e+00,   9.05000000e-01,   8.19025000e-01,\n",
       "          7.41217625e-01,   6.70801951e-01,   6.07075765e-01,\n",
       "          5.49403568e-01,   4.97210229e-01,   4.49975257e-01,\n",
       "          4.07227608e-01,   3.68540985e-01,   3.33529591e-01,\n",
       "          3.01844280e-01,   2.73169073e-01,   2.47218012e-01,\n",
       "          2.23732300e-01,   2.02477732e-01,   1.83242347e-01,\n",
       "          1.65834324e-01,   1.50080064e-01,   1.35822458e-01,\n",
       "          1.22919324e-01,   1.11241988e-01,   1.00673999e-01,\n",
       "          9.11099694e-02,   8.24545223e-02,   7.46213427e-02,\n",
       "          6.75323152e-02,   6.11167452e-02,   5.53106544e-02,\n",
       "          5.00561423e-02,   4.53008087e-02,   4.09972319e-02,\n",
       "          3.71024949e-02,   3.35777579e-02,   3.03878709e-02,\n",
       "          2.75010231e-02,   2.48884259e-02,   2.25240255e-02,\n",
       "          2.03842431e-02,   1.84477400e-02,   1.66952047e-02,\n",
       "          1.51091602e-02,   1.36737900e-02,   1.23747800e-02,\n",
       "          1.11991759e-02,   1.01352541e-02,   9.17240501e-03,\n",
       "          8.30102653e-03,   7.51242901e-03,   6.79874825e-03,\n",
       "          6.15286717e-03,   5.56834479e-03,   5.03935203e-03,\n",
       "          4.56061359e-03,   4.12735530e-03,   3.73525655e-03,\n",
       "          3.38040717e-03,   3.05926849e-03,   2.76863799e-03,\n",
       "          2.50561738e-03,   2.26758373e-03,   2.05216327e-03,\n",
       "          1.85720776e-03,   1.68077302e-03,   1.52109959e-03,\n",
       "          1.37659513e-03,   1.24581859e-03,   1.12746582e-03,\n",
       "          1.02035657e-03,   9.23422696e-04,   8.35697540e-04,\n",
       "          7.56306273e-04,   6.84457177e-04,   6.19433746e-04,\n",
       "          5.60587540e-04,   5.07331723e-04,   4.59135210e-04,\n",
       "          4.15517365e-04,   3.76043215e-04,   3.40319110e-04,\n",
       "          3.07988794e-04,   2.78729859e-04,   2.52250522e-04,\n",
       "          2.28286723e-04,   2.06599484e-04,   1.86972533e-04,\n",
       "          1.69210142e-04,   1.53135179e-04,   1.38587337e-04,\n",
       "          1.25421540e-04,   1.13506494e-04,   1.02723377e-04,\n",
       "          9.29646559e-05,   8.41330136e-05,   7.61403773e-05,\n",
       "          6.89070414e-05,   6.23608725e-05,   5.64365896e-05,\n",
       "          5.10751136e-05]))"
      ]
     },
     "execution_count": 6,
     "metadata": {},
     "output_type": "execute_result"
    }
   ],
   "source": [
    "# Modify this function to implement an RK2 method for our RC circuit ODE\n",
    "\n",
    "# note the template here is for one way to do this, and not necessarily the best way.\n",
    "# I encourage you to try and think of a better and more general way to write this Euler method function.\n",
    "\n",
    "def approx_rk2(dt, t_final, R, C, Q0, t0=0.0):\n",
    "    \n",
    "    #initialize some empty lists to store our data and time steps\n",
    "    Q_list = []\n",
    "    t_list = []\n",
    "    \n",
    "    # number of time steps, must be an integer\n",
    "    n  = int(t_final/dt) \n",
    "    \n",
    "    # the main loop over all time steps\n",
    "    for ii in range(n):\n",
    "        if ii == 0.0:\n",
    "            # set initial conditions at time zero\n",
    "            Q = Q0\n",
    "            t = t0\n",
    "        else :\n",
    "            # !!!!!!!!!!!!!!!!!!!!!!   RK2 method here  !!!!!!!!!!!!!!!!!!!!!!!!!!!!!!!!\n",
    "            \n",
    "            k1 = dt * -Q/(R*C)\n",
    "            k2 = dt * -(Q + k1/2)\n",
    "            \n",
    "            # update value of Q at each time step and step time by dt\n",
    "            Q+= k2\n",
    "            t+= dt\n",
    "            \n",
    "            \n",
    "        # use append to add on to the end of a list\n",
    "        Q_list.append(Q)\n",
    "        t_list.append(t)\n",
    "    \n",
    "    # we turn the lists into numpy arrays before returning\n",
    "    \n",
    "    Q_list = np.array(Q_list)\n",
    "    t_list = np.array(t_list)\n",
    "    \n",
    "    return t_list, Q_list\n",
    "\n",
    "approx_rk2(0.1,10,1,1,1)"
   ]
  },
  {
   "cell_type": "code",
   "execution_count": 15,
   "metadata": {},
   "outputs": [],
   "source": [
    "# Define our constants\n",
    "Q0, t0 = 10, 0.0\n",
    "t_final, dt = 10, 0.01\n",
    "R, C = 1, 1 \n",
    "\n",
    "#create an array with 1000 equally spaced points spanning t0 to _final to pass to our exact expression\n",
    "t = np.linspace(t0,t_final,1000) \n",
    "\n",
    "# Calculate the exact solution\n",
    "Q_exact = exact(t, R, C, Q0)\n",
    "\n",
    "#Call our  approximate function, this returns function values and time points \n",
    "t_approx, Q_approx = approx_rk2(dt,t_final,R,C,Q0)"
   ]
  },
  {
   "cell_type": "code",
   "execution_count": 16,
   "metadata": {},
   "outputs": [
    {
     "data": {
      "text/plain": [
       "Text(0,0.5,'Capacitor charge (units)')"
      ]
     },
     "execution_count": 16,
     "metadata": {},
     "output_type": "execute_result"
    },
    {
     "data": {
      "image/png": "iVBORw0KGgoAAAANSUhEUgAAAYIAAAEKCAYAAAAfGVI8AAAABHNCSVQICAgIfAhkiAAAAAlwSFlzAAALEgAACxIB0t1+/AAAADl0RVh0U29mdHdhcmUAbWF0cGxvdGxpYiB2ZXJzaW9uIDIuMi4zLCBodHRwOi8vbWF0cGxvdGxpYi5vcmcvIxREBQAAIABJREFUeJzt3Xd4VGX6//H3nV4JCQk1lNAh1BB6FwsW1LW7imJDbKuiu5bVRSwru/KzrbsiNlixu6BibxRBUDpIR2oAIYSSQPrk/v0xA9+IlCHJzElm7td1zZU5Z86c5zNG5s5zyvOIqmKMMSZ4hTgdwBhjjLOsEBhjTJCzQmCMMUHOCoExxgQ5KwTGGBPkrBAYY0yQs0JgjDFBzgqBMcYEOSsExhgT5MKcDuCN5ORkbdasmdMxjDGmRlm0aNEeVU052XY1ohA0a9aMhQsXOh3DGGNqFBHZ4s12dmjIGGOCnBUCY4wJclYIjDEmyNWIcwTGmOqnpKSErKwsCgsLnY4S9KKiokhNTSU8PLxC77dCYIypkKysLOLj42nWrBki4nScoKWq5OTkkJWVRVpaWoX24bNDQyLymojsFpGfy61LEpGvRWS952eir9o3xvhWYWEhderUsSLgMBGhTp06leqZ+fIcwSRg6FHr7ge+VdVWwLeeZWNMDWVFoHqo7O/BZ4VAVWcDe49afQEw2fN8MnChr9oH+HDJdqbM9+oyWmOMCVr+vmqonqruBPD8rHu8DUVkpIgsFJGF2dnZFWqsdM5ztPj6+oolNcYEtZkzZ/LDDz84HcMvqu3lo6o6UVUzVTUzJeWkd0gfU2J8HPtLQigucVVxOmNMoLNC4Du7RKQBgOfnbl82ltf5Bm4pvoste/N92YwxxkFTpkyhR48edOnShZtvvpktW7bQqlUr9uzZQ1lZGf379+err74C4MILL6Rbt26kp6czceLEI/v44osvyMjIoHPnzgwZMoTNmzczYcIEnnnmGbp06cL333/v1MfzC39fPvoxcC0wzvPzI1821rJuHADrdx+kVb14XzZlTFAbO30lq3bkVuk+2zesxZhh6SfcZvXq1bz77rvMnTuX8PBwbr31VmbNmsV9993HqFGj6NmzJ+3bt+fMM88E4LXXXiMpKYmCggK6d+/OxRdfTFlZGTfddBOzZ88mLS2NvXv3kpSUxKhRo4iLi+Pee++t0s9VHfmsEIjI28AgIFlEsoAxuAvAeyJyA7AVuNRX7QM0rxPJ9IgHObBoGHR83JdNGWMc8O2337Jo0SK6d+8OQEFBAXXr1uWRRx7h/fffZ8KECSxduvTI9s8//zzTpk0DYNu2baxfv57s7GwGDBhw5Br8pKQk/38Qh/msEKjqlcd5aYiv2jxaTFQU28ObkV0YTz9/NWpMEDrZX+6+oqpce+21PPnkk79Zn5+fT1ZWFgAHDx4kPj6emTNn8s033zBv3jxiYmIYNGgQhYWFqGrQXwZbbU8WV5V3Uv/K20V9nI5hjPGBIUOG8MEHH7B7t/t04969e9myZQv33XcfV111FY8++ig33XQTAAcOHCAxMZGYmBjWrFnD/PnzAejduzezZs1i06ZNR/YBEB8fT15engOfyv8CvhC0TInjl+w8XK4yp6MYY6pY+/btefzxxznzzDPp1KkTZ5xxBps3b2bBggVHikFERASvv/46Q4cOpbS0lE6dOvHwww/Tq1cvAFJSUpg4cSIXXXQRnTt35vLLLwdg2LBhTJs2LShOFouqOp3hpDIzM7WiE9N8P30SnRfeT961M2jUvF0VJzMmeK1evZp27ezfVHVxrN+HiCxS1cyTvTfgewSJqW2Y5urHln0FTkcxxphqKeALQWqbbowpvY6fDyU4HcUYY6qlgC8EtWMiSI6LZPOvOU5HMcaYaiko5iN4MWw8tdbtA350OooxxlQ7Ad8jANhc9wzeLe1PTTgxbowx/hYUhSC/7cW8VjiY7Lwip6MYY0y1ExSFoGXdOOLIZ1PWTqejGGMC0Mcff8y4ceOqZF/PPvss+fn+HSgzKApB69h8fo66EZa/43QUY0w1V1paesrvOf/887n//qqZcNEKgY8k10vlGa5igbZxOooxpooda2jpuLg47rnnHjIyMhgyZAiHJ7caNGgQd911F3369KFDhw789NNPADzyyCOMHDmSM888k2uuuYbCwkKuu+46OnbsSNeuXZkxYwYATz/9NNdf757sasWKFXTo0IH8/HwmTZrE7bffDsCIESO45ZZbGDx4MM2bN2fWrFlcf/31tGvXjhEjRhzJfcstt5CZmUl6ejpjxowB3IPi7dixg8GDBzN48GAAvvrqK3r37k1GRgaXXnopBw8erPr/iKpa7R/dunXTyrrkxbl6yYtzK70fY4zbqlWrfrvitXNUF09xPy8tdi8vfce9XHTIvbziA/dywX738sqP3MsH97iX13zmXs791escOTk5qqqan5+v6enpumfPHgV0yhR3lrFjx+ptt92mqqoDBw7UG2+8UVVVZ82apenp6aqqOmbMGM3IyND8/HxVVR0/fryOGDFCVVVXr16tjRs31oKCAnW5XNq/f3+dOnWqduvWTefMmaOqqq+//vqRNq699lq9/PLLtaysTD/88EONj4/X5cuXq8vl0oyMDF2yZMlvcpeWlurAgQN12bJlqqratGlTzc7OVlXV7Oxs7d+/vx48eFBVVceNG6djx4495n+H3/0+VBVYqF58xwZFjwAgvW4E+usKtMzGHDImkDz//PN07tyZXr16HRlaOiQk5MiYQVdffTVz5sw5sv2VV7oHRh4wYAC5ubns378fcB/eiY6OBmDOnDkMHz4cgLZt29K0aVPWrVtHSEgIkyZNYvjw4QwcOJC+ffseM9OwYcMQETp27Ei9evXo2LEjISEhpKens3nzZgDee+89MjIy6Nq1KytXrmTVqlW/28/8+fNZtWoVffv2pUuXLkyePJktW6p+HvaguI8A4OzS73iEJ9iVdRr1mrRyOo4xgee6T//veWj4b5cjYn67HJXw2+XYOr9djq/nVZPHG1r6aOWHmT56yOnDy7GxsUfW6QkuNV+/fj1xcXHs2LHjuNtERkYCEBIScuT54eXS0lI2bdrE+PHjWbBgAYmJiYwYMeKYuVWVM844g7fffvu4bVWFoOkRRLUbym3Ff2LtgaD5yMYEvOMNLV1WVsYHH3wAwFtvvUW/fv83I8m7774LuP/qT0hIICHh98PPDBgwgDfffBOAdevWsXXrVtq0acOBAwe48847mT17Njk5OUfaOFW5ubnExsaSkJDArl27+Pzzz4+8Vn746169ejF37lw2bNgAuOdZWLduXYXaPJGg6RE0a9mOT8t60SEHBjgdxhhTJYYOHcqECRPo1KkTbdq0OTK0dGxsLCtXrqRbt24kJCQc+fIHSExMpE+fPuTm5vLaa68dc7+33noro0aNomPHjoSFhTFp0iQiIyO55ZZbuPXWW2ndujWvvvoqgwcPZsCAU/9G6dy5M127diU9PZ3mzZv/5hDTyJEjOfvss2nQoAEzZsxg0qRJXHnllRQVue+Devzxx2nduvUpt3kiAT8MdXmX/v1NejUQ7rnuj1WQypjgVp2HoY6Lizvm1TWDBg1i/PjxZGaedGTmGqcyw1AHTY8A4K+hk0nY9itghcAYYw4LqkKwpMWtfLhkOx+4yggPtXMFxgSq411rP3PmTP8GqSGC6tswsUV3lrmasTH7kNNRjAkINeHQcjCo7O8hqApBm5QoBocsYfu6RU5HMabGi4qKIicnx4qBw1SVnJwcoqKiKryPoDo01CIllpfCn2bxml0wYJDTcYyp0VJTU8nKyjoyfINxTlRUFKmpqRV+f1AVgojIKG6LH4+EpdHL6TDG1HDh4eGkpaU5HcNUgaA6NAQQ2qgrS3ZbV9YYYw4LukKQWTuPM/Omkntgr9NRjDGmWgi6QtApYgdjwt9g+1o7YWyMMRCEhaBepzPoXvhvFrhs4DljjIEgLAT1k5NwxdZj5fZcp6MYY0y1EHSFQES4InEd6b9MdDqKMcZUC44UAhG5W0RWisjPIvK2iFT8TogK6Be+hvPyp1FcXOzPZo0xplryeyEQkUbAn4BMVe0AhAJX+DPD/sy76FY0gXXZBf5s1hhjqiWnDg2FAdEiEgbEAMef6scH2japhxLCqh12nsAYY/xeCFR1OzAe2ArsBA6o6lf+zNCsTiyjIz4kdtmxJ6UwxphgctJCICIhItJVRM4VkdNExLvJRI+/v0TgAiANaAjEisjVx9hupIgsFJGFVT2WSUiIMChqPdF7VlTpfo0xpiY67lhDItICuA84HVgPZANRQGsRyQdeAiaratkptnk6sElVsz3tTAX6AFPKb6SqE4GJ4J6h7BTbOKmp6S/w3qIsVpQpoSFy8jcYY0yAOlGP4HHcX84tVPUsVb1aVS9R1U7A+UACMLwCbW4FeolIjIgIMARYXYH9VEp6owTyi11szrG5CYwxwe24PQJVvfIEr+0Gnq1Ig6r6o4h8ACwGSoEleP7y96dOSS4mhD9D9sJ9tDj7d0emjDEmaHhzjuBSEYn3PH9IRKaKSEZlGlXVMaraVlU7qOpwVS2qzP4qonlqA5qH7CQ7e7e/mzbGmGrFm6uGHlbVPBHpB5wFTAZe9G0s3wuPiOSe5Jd4t7iv01GMMcZR3hQCl+fnucCLqvoREOG7SP6T3rAWP+84YFPtGWOCmjeFYLuIvARcBnwmIpFevq/aOy16Pe+UjmbnJr+fqzbGmGrDmy/0y4AvgaGquh9IAv7s01R+kta4MTs1ifXb7TyBMSZ4eVMIXlLVqaq6HkBVd1Kxy0arnWbtM7lZH2BObl2noxhjjGO8KQTp5RdEJBTo5ps4/hUeGkKHhrVYvnWf01GMMcYxxy0EIvKAiOQBnUQk1/PIA3YDH/ktoY/dFPkVE369nNJiv1/Baowx1cJxC4GqPqmq8cBTqlrL84hX1Tqq+oAfM/pUQuMOTHP15ZcdVTuekTHG1BQnGmuoraquAd4/1g1kqrrYp8n8pGHGOfzxuxjG7S6jTTOn0xhjjP8dtxAAo4GRwP87xmsKnOaTRH7WtE4MCVFhrN28DXo0cTqOMcb43YnGGhrp+TnYf3H8T0SYEPMf6q/ZBCx3Oo4xxvjdiXoER4hIH6BZ+e1V9b8+yuR3u5ucy6c/r+HB4lJiIrz6T2KMMQHjpN96IvIG0AJYyv8NN6FAwBSCuM4XMGVpIy7YkUv3ZklOxzHGGL/y5s/fTKC9BvCAPJ1Sa1OLg/yybhXdm/VzOo4xxviVNzeU/QzU93UQJ6XER/J59MO0Wf4Pp6MYY4zfedMjSAZWichPwJG7rlT1fJ+lcsCn9W9l4Z5w/8+QY4wxDvOmEDzi6xDVQXiHC/hq+ip27C+gYe1op+MYY4zfnLQQqOosfwRxWmaT2nSUjaz5OYGG/ew8gTEmeHgzVWVeubGGCkXEJSK5/gjnT+3qx/F2xBPELX3F6SjGGONX3vQI4ssvi8iFQA+fJXJIWHg4z6SMZW1pfaY4HcYYY/zolGcaU9UPCZDhJY4W23oQP+wK42BRqdNRjDHGb7y5oeyicoshuO8rCMh7CrqnRjNM5rBueW0yutuk9saY4ODNVUPDyj0vBTYDF/gkjcO6pMbTO3wCC5eXgBUCY0yQ8OYcwXX+CFIdxNdK5MaE/1CsTenldBhjjPGTE81Q9pCIHHfgHRE5TUTO800s5zRo3pFFW3MpdZU5HcUYY/ziRD2CFcB0ESkEFgPZQBTQCugCfAP83ecJ/axv/VKSy95h0+pkWnXIdDqOMcb43ImmqvxIVfsCo4CVQCiQC0wBeqjq3aoacPM7dm4Yx22hH7Fz7Y9ORzHGGL/w5hzBemC9H7JUC/Ubt+DMqCm0KqzPAKfDGGOMH5zyfQSBTkTo2KIR8zfuJYBH3jbGmCOsEBzDGXUP8mjxeDavXuh0FGOM8TkrBMfQOa0+GSHr2LB+rdNRjDHG57wZdK61iHwrIj97ljuJyEOVaVREaovIByKyRkRWi0jvyuyvqjVs2pLLol/hg9y2Tkcxxhif86ZH8DLwAFACoKrLgSsq2e5zwBeq2hboDKyu5P6qXO8Wyfy4aS9lZXaewBgT2LwpBDGq+tNR6yo8KpuI1AIGAK8CqGqxqu6v6P58ZWjSLt4uvYfNK+Y6HcUYY3zKm0KwR0Ra4BloTkQuAXZWos3muG9Oe11ElojIKyISe/RGIjJSRBaKyMLsbP/frpDephU5Gs/PWTl+b9sYY/zJm0JwG/AS0FZEtgN3AbdUos0wIAN4UVW7AoeA+4/eSFUnqmqmqmampKRUormKqZ+axl9rPcH0nEZ+b9sYY/zJmxvKNgKne/5qD1HVvEq2mQVkqerhW3c/4BiFoDrolVaHr3/ehsvlIjQ01Ok4xhjjE97MRzD6qGWAA8AiVV16qg2q6q8isk1E2qjqWmAIsOpU9+MP5yVs5GG9mc3L36VF10FOxzHGGJ/w5tBQJu7xhhp5HiOBQcDLIvKXCrZ7B/CmiCzHPYBdtRy8rm2nTKa5+vHjjhKnoxhjjM94MzFNHSBDVQ8CiMgY3IdzBgCLgH+eaqOenkS1H9ozpV4qb6XcRcL2MP7odBhjjPERb3oETYDicsslQFNVLQCKfJKqGhnQKpldW9Zy6GCu01GMMcYnvCkEbwHzRWSMpzcwF3jbc/K4Wh7br0rnJGYxI/xOfpn3kdNRjDHGJ7y5augxEfkM6AcIMEpVD4/GdpUvw1UHbTP688TnI4ja35BOTocxxhgfOGEhEJEQYLmqdsB9PiDoREZGsSHtKjZvyecep8MYY4wPnPDQkKqWActEpImf8lRLA1sk0HjvD2zfutHpKMYYU+W8uWqoAbBSRH7CfRcwAKp6vs9SVTODGpQwIuIfLJgnNGrygNNxjDGmSnlTCMb6PEU117RlOneEj0ULM+nudBhjjKli3pwsnuWPINWZiBDX7jQ+WbaTElcZ4aE2n48xJnB4MzFNLxFZICIHRaRYRFwiEnQX1Q9pEcfFpZ+wesEMp6MYY0yV8uZP2xeAK4H1QDRwo2ddUOnTqi5/CXuXfcs+cTqKMcZUKW/OEaCqG0QkVFVduOcR+MHHuaqdmJg47mz8Bov3hjNb9fDge8YYU+N50yPIF5EIYKmI/FNE7gZ+N5FMMOjRsS3b9hawfvdBp6MYY0yV8aYQDPdsdzvuy0cbAxf7MlR1NaRNCmPCJrPzm385HcUYY6qMN1cNbfE8LSTILyWtXzuGrtG/smn7L05HMcaYKuPNVUN9ReRrEVknIhsPP/wRrjqa2eNlRu+7iD0HA37gVWNMkPDm0NCrwNO4B53rXu4RlE5vXx9V+G71LqejGGNMlfDmqqEDqvq5z5PUEOkNa/GvmFdJnVEI3T9zOo4xxlTacQuBiGR4ns4QkaeAqZSbiEZVF/s4W7UkIkQ2aMcP23bQuqiU2EivrsA1xphq60TfYv/vqOXyU0sqcFrVx6kZEoaM5qmJ82myZjfDOjd0Oo4xxlTKcQuBqg72Z5CaJLNZEilxEfy0eJEVAmNMjefNVUN/F5Ha5ZYTReRx38aq3kJDhH8kf87Dm0eQn7fX6TjGGFMp3lw1dLaq7j+8oKr7gHN8F6lmSMq8hIdKr2P2+n1ORzHGmErxphCEikjk4QURiQYiT7B9UOiY0ZvvoocyffUBp6MYY0yleHPJyxTgWxF5HfdJ4uuByT5NVQOEhgjD2tXiwLIPKchLIzo+0elIxhhTISftEajqP4HHgXZAOvCYZ13Qu6jBXp4OeY7Vc6Y5HcUYYyrM22GovwC+8HGWGqddj9MZ+e2jhGR3YILTYYwxpoJszsVKCAsLI7XLGXy3Nof9+cVOxzHGmAqxQlBJF3Wpz01M5ecvX3U6ijHGVMgJC4GIhIrIFH+FqYnSUxO5MHIhB9d973QUY4ypkBMWAs/UlCmeGcrMMYgI3/V9g1H7rmJrTr7TcYwx5pR5c2hoMzBXRB4WkdGHH5Vt2NPbWCIiNX42+PO6tQDgwyVZDicxxphT500h2AF84tk2vtyjsu4EVlfBfhzXqHY0Y+vO5twfLkXLXE7HMcaYU+LNVJVjAUQk3r2olZ65XURSgXOBJ4BK9y6qg1YtW7H4p1XkbtxB15aNnY5jjDFe82bQuQ4isgT4GVgpIotEJL2S7T4L/AUoq+R+qo1OZ41gTMhtvLXEBqEzxtQs3hwamgiMVtWmqtoUuAd4uaINish5wG5VXXSS7UaKyEIRWZidnV3R5vwmLjKM8zs3ZPHyZeTtz3E6jjHGeM2bQhCrqjMOL6jqTCC2Em32Bc4Xkc3AO8Bpx7pEVVUnqmqmqmampKRUojn/ubYdfB3yJ9Z+8aLTUYwxxmveFIKNniuGmnkeDwGbKtqgqj6gqqmq2gy4AvhOVa+u6P6qk7btOvLv2Fv41872TkcxxhiveVMIrgdScM9ZPBVIBkb4MFONJSLU7n8zs3ZFsiLLhqc2xtQM3hSC01X1T6qa4XncBZxRFY2r6kxVPa8q9lVdXNC1Eb3CN7D+8xecjmKMMV7xphA84OU6A9SKCufO5IX0y3qZ3EOHnI5jjDEnddz7CETkbNxTUjYSkefLvVQLKPV1sJqs1jljGPTqMu5Zspsb+qU5HccYY07oRD2CHcBCoBBYVO7xMXCW76PVXOmtWtKuaQMm/7AZlytgbpUwxgSo4/YIVHUZsExE3lRV6wGcolHd4qn1yd2s/GYUnc66zuk4xhhzXMftEYjIe56nS0Rk+dEPP+WrsQZ3bYuERjBjbfW/Gc4YE9xONNbQnZ6fAXVVj7+EhYezaOAknvliDWf9mkvb+rWcjmSMMcd03B6Bqu4st80uVd2iqluA3YD4I1xNd2WPxkSHw1df23TPxpjqy5vLR9/nt4PDuTzrzEnUjong+dRZ3LrhZrK3rnU6jjHGHJM3hSBMVY/MzO55bjOWean92aO413UrE5cVOR3FGGOOyZtCkC0i5x9eEJELgD2+ixRYGjVpTkjHS3lzwQ72HSo++RuMMcbPvCkEo4AHRWSriGwD7gNu9m2swDJqUAvOcX3Hsg+edDqKMcb8jjczlP0C9BKROEBUNc/3sQJL63rxXFZ7HbJpNwcLHyQuKtzpSMYYc8RJCwGAiJwLpANRIu4LhlT1UR/mCjhRF/+b8ycu4f4ftzJqYAun4xhjzBHeTFU5AbgcuAP3ZaOXAk19nCvgdGreiEFt6jJp5iryDth0lsaY6sObcwR9VPUaYJ9nIvvegM3OXgF/HpTKtLI/sfa9MU5HMcaYI7wpBAWen/ki0hAoAWxIzQpIT2vIvDoX81xWS7uCyBhTbXhTCD4RkdrAU8BiYDPwti9DBbIOl49hTnFLJsz+xekoxhgDeFEIVPUxVd2vqv/DfW6grar+zffRAlPrevFc3jGRuHnjyd5mdxsbY5znzcniKBEZLSJTgbeA60UkyvfRAtcdfetxg0xnzqdvOh3FGGO8OjT0X9yXjv4LeAFoB7zhy1CBrlHTFrzS9X+M3tLTJrk3xjjOm0LQRlVvUNUZnsdIoLWvgwW6EUN7kRQTwQsffY+WuZyOY4wJYt4UgiUi0uvwgoj0BOb6LlJwqBUVzqO94Nnd17H8s4lOxzHGBDFvCkFP4AcR2Swim4F5wEARWWEzlVXOWYMHMy3qQh5dkUhBsfUKjDHO8GaIiaE+TxGkwsLCSLtsHItens+/vlvPX4a2dTqSMSYIeXP56OGZyQoAPfwot95UQu8WdRjeKZ42c0ezZcUcp+MYY4KQN5ePni8i64FNwCzcN5R97uNcQWX00PZkhq7j06+/pqxMnY5jjAky3pwjeAzoBaxT1TRgCHayuEolJiUzb+iX/HN3D95duM3pOMaYIONNIShR1RwgRERCVHUG0MXHuYLOxT2b0zMtic8+ncavm1c5HccYE0S8KQT7PZPSzAbeFJHngFLfxgo+IsL4C1rxPE+x6d0H7BCRMcZvvCkEFwD5wN3AF8AvwDBfhgpWjesn82Pv/3DjvuFM+dHOwxtj/OO4hUBEWopIX1U9pKplqlqqqpOBpUBt/0UMLmedNYxurZsw7rOVbN1sI5QaY3zvRD2CZ4FjzU+c73mtQkSksYjMEJHVIrJSRO6s6L4CkYjwz4s78XToC8h/z6ewIN/pSMaYAHeiQtBMVX9357CqLgSaVaLNUuAeVW2H+2qk20SkfSX2F3DqJ0SRPPBmnik8j79/tdHpOMaYAHeiQnCioaajK9qgqu5U1cWe53nAaqBRRfcXqDIHX0hSn2v577wtfL7MzhcYY3znRIVggYjcdPRKEbkBWFQVjYtIM6Ar8OMxXhspIgtFZGF2dnZVNFfj/GVoW66ov52uUwezY91ip+MYYwLUiQrBXcB1IjJTRP6f5zELuBGo9HF9zyWp/wPuUtXco19X1YmqmqmqmSkpKZVtrkaKCAvhjovPYJM04v7p68krLHE6kjEmAB23EKjqLlXtA4zFPazEZmCsqvZW1V8r06iIhOMuAm+q6tTK7CvQNWqchuuqaczNieeud5bictkopcaYqnXS0Uc9dxLPqKoGRUSAV4HVqvp0Ve03kPVrlcyY89rh+uw+lr4UR7dbX3M6kjEmgHhzQ1lV6wsMB04TkaWexzkO5KhRhvduRosGdVi8o4D3F9jJY2NM1fFmPoIqpapzAPF3uzWdiND75heYOGkh86atJCkmnCHpDZ2OZYwJAE70CEwFhYeFMmF4NwbWLST1vTNZO/dDpyMZYwKAFYIaJi4yjPFX9yM/LIEnvt7C6p2/u+DKGGNOiRWCGigpuS4pt33FuogOXPXKj6zdbHMYGGMqzgpBDZWaFMvbI3txpvxE/Uk92bBintORjDE1lBWCGiwtOZbbh1/G7JBeXD11Dz9vP+B0JGNMDWSFoIZLbdqKzrdNITQylmsmzmbF99OdjmSMqWGsEASAJnVi+N8tfbgnajrtvrmGL+fYYSJjjPesEASI+glRDLvtnzyX9Fdu/mQv/5m5AVWb7tIYc3JWCAJIrVq1uf22uzmvUwM++fJLFj/9Bwpy9zkdyxhTzVkhCDCRYaE8f0VXRncqJiX3Z65/9Xu27bVZzowxx2eFIACFhAinX3lOXoc5AAAQpUlEQVQ3my6bwc8HIhn2r+9ZPPMjp2MZY6opKwQBbGB6Y6bf3o8rYhaQMfMaJr/xGoUlNoy1Mea3rBAEuGbJsdx955/5MO1vjFlZl/NfmMPqzdudjmWMqUasEASByIhILrz2Hv57fU9KDu0n8fV+fPv6GOsdGGMAKwRBZUDrFKbd3p8NdQbz9LoUhj47mx/W73Y6ljHGYVYIgkzt2kn0+9NrPHjDFSiwZPI9rHjqbLJybBRTY4KVFYIg1bdlMl/eNYD0li1YnhfHac/M5Z9frCHv0CGnoxlj/MwKQRCLCg9l0IhHGDz6v5zbsQEfz5pP0VPt+WzqZPKLS52OZ4zxEysEhoa1o3nm8i68fHVXNkZ35LGfhP7/mMEbX80nPzfH6XjGGB/z+5zFpvpql94Z0j/hhS37eO7b9dT6fgx5P6zh3z2nM7xPS+onRDkd0RjjA1ITBibLzMzUhQsXOh0j6KxaPIf58+fy+LYOhIjwrwZfkNbrAtpknoaIOB3PGHMSIrJIVTNPtp31CMxxtc/oR/uMfpyxN5/3Zi+j55KpvPRhMd99H8bl3Rryh5ah1GnU3OmYxphKsnME5qQaJ8Vwz4W9ifjzalqdexfxUWHM+vIDEidm8NRLr/DR0u0cLLKTy8bUVNYjMF6Li4vnkj5tuaQPbNqYzJxv9/LhrkZsf2cpw8O/47K4ZWw+7T8M7JhGrahwp+MaY7xkhcBUSFrzNqQ1f4rvy5RFW/ex87vl5G5zccf/1hM6bQN/q/MdrZKjqXX6vaQ3rGXnFIypxuxksakyZWXKkm37+Hb1bnouvpeignxGltxDSnwkj9X6iJjGnajf+wpapsQREmKFwRhfs5PFxu9CQoRuTZPo1jQJhn7C7v2HGP/LPmav3UXbdd/w1a4crpnfkMToMF6KeZGcFn+gdufzSG9Uyw4lGeMgKwTGZ+rWjuWSbrFc0i0V1VWcufsAtbflsXL9RuquW8+0Rct4+6dkapPH59EPM73BHWibc+lQL4rWcfkkN2yOhIQ6/TGMCXhWCIxfiAjN6tWmWb3akNkYWMk9eYWctSOXLb+sIWtVexbuCeerjWvIkHVMjXyE2/UvbK83iB61cxlSOpeSjpdTPzWNRglRREXY/7rGVBX712QckxwfxaA2UdCmLpwzgO7A3kPF/LIxjXmrXaRKD/bsC2H/hoX0KPsXZ6xuzHrdyrkh83ksYjJ/S36aiJSWdI7cQfuydZS0u4iUpETqxoZSKyYKCbGro43xhiOFQESGAs8BocArqjrOiRym+kmKjSCpY3vo2J7eR9b2Zt/eW3hyv7LtQBHFmwpZt3UjB0KT+GVjDnUPfcy1YW/T4adGHCSGkaHTuTfsfS6IfYP4hESGhCyiS8kyFrb9M0lxUaSWbiNZDhDWvD+JsRHUjgojLMwOQZng5fdCICKhwL+BM4AsYIGIfKyqq/ydxdQciUnJZCZBJkDXVOBienleKyruR1bWXbyiyezKKyJkyyF+2hlBy4QG7MotJGT3KtKKv+byrRcCMCZsMp1Dv6dT0SsAjA17ndPDlnJV7MvUig7nsuIPSSvbytQmfyU+KoyuB2eTyAG2tbiSuMgwGhSsIyZUKWuYQXR4KDEle4mKCCcyoS7R4aGE2hVRpoZxokfQA9igqhsBROQd4ALACoGpkMiISFKbtyX18IoulwGX0e/IFu6+xepiF/vyizm4O41Ne7J4PrYD+w4Vk7T1dNYeaErHWrXJKywhoiAfKdrP/I055BWW0NM1lbqyk2uWdwTglfCniJF9nF/8dwAmh48jQQ5xYfFjAPw34h+EhsDoiL8RFR7KQ8XPUxIazeTEO4gIC+Ga/RPID0/g6+RriAgN4ZycSRyKSGZZvYsIDxN67nqPwqi6bKl/JuGhQtvdn1IU04C9KT0JDRFSf/2WotgGHEzqSGiIkLJ7LsWx9SlObE2oCAnZC3HFNaA0oQmhIsTuXYnG1kXj6xMqEJm7BWKSCIlJJFQgtCAbjYgjJCIWQQkt2g/hsRAeRQhlSEk+IeFRSGgEgiJlRUhIBBIaSgi414nYobgazIlC0AjYVm45C+jpQA4TZKIjQomOiIba7aF1ezoffqHPKABOO7JlDwDmepa07AzyCwr40RVKXmEpJbvqUXgoj1dqtaegxIVsv5V9JYU8mNiWguIyCrLOosRVxuDadSkocVG2M5kijUCBg0WlhBflUFZUyqriXIpdZVxV+BO51Of9bd0pdpVxRchbLNGW/GNpEwB+iHya712duK80GoCFkQ/xhas7D5XeAMDyyNv5n6s/Y0uvBWB15Agmu85kXOkfAdgQeTUTXMMYX3o5IZSxMepqni65hOddFxFFEWuirmNcyRVMcJ1PLQ6xPOomHiu5mldd51CHAyyKuoWHS0bwhutMGpDDvKg7uK/kJt51DaaJ7GJ25N2MLh7F1LIBtAzZzhfh9zHadTufa2/aylbeD32I0WV3MVMyac9GXpdHuVfuZr50pRPreF7H8eeQe1ks6XTVVTxVNp7RIfexQtrQXVfwRNmz3Bn6IGukJb3LljCm7AVuD/sbv0hT+pct4AHXS9wSNpat0ojTdB6jS19jZPjj/Cr1Od01hztck7kpYhzZUoehrpncXPoW10c8xX5J4DzXt1xf+h7XRD7DIYnlgtIvudo1leGRz1MkkVxU+hlXlH7MH6P+jUtCuaxkOn8o/Zw/Rr+ICFxRPI2zSmdwfczzAFxV/D4DXfO4OeYZAK4tfofupYu5I+afIHB90RQ6uFZzT8wTANxYNJlWro3cH/soAKMKXyW1bDsPxfwNgFpluTx73RCa1Impwn8Jv+dEIThWv/l3d7WJyEhgJECTJk18ncmY45KQEGJjY4kF6tUC6h51f07nKwEYfGTFXwE478jyywD84cjyx0ct/0A34KIjy2fTxOXinDIodpVRmjuXQRrK9+HxuMqUQ3s/pXdYDJ9H18VVpvy6+z26R9bm/ZhGuMqUX3a8TkZUPV6Pb0pZmbI86wU6xzThhfgWuFwuFmx9kg7xrflHfGtcpcX8uO2vdEjoyNj4doiriPlZf6FjQgYPxbch1FXA/Ky76Fy7Bw3j2hJWmse87bfRJbEvqbGtiSipx7wdI+ma1J/UmJZEFSexYOe1dKnTk0YxzYkpimPpzsvomtyFhlFNqFUUzspdw+hUJ50G0Y2oXVjGut1n0DG5FQ2iGlCnsIj12afRqW4LGkXUp25BPhtyBtM5JY0mkfVoUNCCX/YMoEvdJqRF1KNRfgs27e1HRr3GtAxLpnF+Szbv7UNGvVQOhSXS6FBztuzrSdf6DSgIq0W9g83Zur8H3erXoyA0jjoHm7PtQCbd6qdQHBJNUl4a23O7ktGgDq6QCBJym7E9rzPdGiRRJqHE5zZl58GOZDSoDUBsbhOyD7ajc0P3ctT+puQU7KNj/QQUCD/QmP0FebSvVwuA0P2p5BUV0fbw8r5GHCouo03dePevfl8j8kvDaZPiXo52CRFhvu9p+f3OYhHpDTyiqmd5lh8AUNUnj/ceu7PYGGNOnbd3FjtxUG8B0EpE0kQkAriCw38iGWOM8Tu/HxpS1VIRuR34Evflo6+p6kp/5zDGGOPmyH0EqvoZ8JkTbRtjjPktu97LGGOCnBUCY4wJclYIjDEmyFkhMMaYIGeFwBhjglyNmKpSRLKBLRV8ezKwpwrj1AT2mYODfebAV9nP21RVU062UY0oBJUhIgu9ubMukNhnDg72mQOfvz6vHRoyxpggZ4XAGGOCXDAUgolOB3CAfebgYJ858Pnl8wb8OQJjjDEnFgw9AmOMMScQ0IVARIaKyFoR2SAi9zudx5dEpLGIzBCR1SKyUkTudDqTv4hIqIgsEZFPnM7iDyJSW0Q+EJE1nt93b6cz+ZqI3O35//pnEXlbRKKczlTVROQ1EdktIj+XW5ckIl+LyHrPz0RftB2whUBEQoF/A2cD7YErRaS9s6l8qhS4R1XbAb2A2wL885Z3J7Da6RB+9Bzwhaq2BToT4J9dRBoBfwIyVbUD7uHrr3A2lU9MAoYete5+4FtVbQV861mucgFbCHBPPLtBVTeqajHwDnCBw5l8RlV3qupiz/M83F8OjZxN5XsikgqcC7zidBZ/EJFawADgVQBVLVbV/c6m8oswIFpEwoAYYIfDeaqcqs4G9h61+gJgsuf5ZOBCX7QdyIWgEbCt3HIWQfDFCCAizYCuwI/OJvGLZ4G/AGVOB/GT5kA28LrncNgrIhLrdChfUtXtwHhgK7ATOKCqXzmbym/qqepOcP+xB9T1RSOBXAjkGOsC/hIpEYkD/gfcpaq5TufxJRE5D9itqouczuJHYUAG8KKqdgUO4aPDBdWF57j4BUAa0BCIFZGrnU0VWAK5EGQBjcstpxKA3cnyRCQcdxF4U1WnOp3HD/oC54vIZtyH/k4TkSnORvK5LCBLVQ/39j7AXRgC2enAJlXNVtUSYCrQx+FM/rJLRBoAeH7u9kUjgVwIFgCtRCRNRCJwn1z62OFMPiMigvu48WpVfdrpPP6gqg+oaqqqNsP9+/1OVQP6L0VV/RXYJiJtPKuGAKscjOQPW4FeIhLj+f98CAF+grycj4FrPc+vBT7yRSOOzFnsD6paKiK3A1/ivsrgNVVd6XAsX+oLDAdWiMhSz7oHPfNDm8ByB/Cm5w+cjcB1DufxKVX9UUQ+ABbjvjpuCQF4h7GIvA0MApJFJAsYA4wD3hORG3AXxEt90rbdWWyMMcEtkA8NGWOM8YIVAmOMCXJWCIwxJshZITDGmCBnhcAYY4KcFQJjjAlyVghMwPAMz3xrueWGnuvPfdHWhSLyt0q8/5XDo8OKyINebP+OiLSqaHvGnIjdR2AChmewvU88QxX7uq0fgPNVdU8V7OugqsadZJuBwNWqelNl2zPmaNYjMIFkHNBCRJaKyFMi0uzwJB8iMkJEPhSR6SKySURuF5HRnhE854tIkme7FiLyhYgsEpHvRaTt0Y2ISGug6HAREJFJInJJudcPen4OEpGZ5SaRedMzRAKe9ZkiMg738MpLPa/HisinIrLMMwnL5Z7dfg+c7hmG2ZgqZYXABJL7gV9UtYuq/vkYr3cA/oh7roongHzPCJ7zgGs820wE7lDVbsC9wH+OsZ++uIc78EZX4C7ckyM197z3CFW9HyjwZL4K98QkO1S1s6dn84VnuzJgA+6JaIypUlYITDCZoap5qpoNHACme9avAJp5hvDuA7zvGa/pJaDBMfbTAPecAN74SVWzPF/kS4FmJ9l+Be6//P8hIv1V9UC513bjHobZmCpl3UwTTIrKPS8rt1yG+99CCLBfVbucZD8FQEK55VLPew+PAhtxnDZdnOTfnKquE5FuwDnAkyLylao+6nk5ytO2MVXKegQmkOQB8RV9s2cin00icim4v9RF5FiHYlYDLcstbwa6eZ5fAISfYtMlnrkkEJGGuA9ZTcE9K1f5uQZaA4E8gq5xiBUCEzBUNQeY6znJ+lQFd3MVcIOILMP9pXusea5nA10Pn/gFXgYGishPQE/cs4adionAchF5E+gI/OQ5NPVX4HEAEamH+1zCzlP9QMacjF0+akwFiMhzwHRV/cZP7d0N5Krqq/5ozwQX6xEYUzF/B2L82N5+YLIf2zNBxHoExhgT5KxHYIwxQc4KgTHGBDkrBMYYE+SsEBhjTJCzQmCMMUHu/wOe/Htpcy56LgAAAABJRU5ErkJggg==\n",
      "text/plain": [
       "<Figure size 432x288 with 1 Axes>"
      ]
     },
     "metadata": {
      "needs_background": "light"
     },
     "output_type": "display_data"
    }
   ],
   "source": [
    "# Generate plots \n",
    "fig = plt.figure()\n",
    "ax = fig.add_subplot(111)\n",
    "ax.plot(t, Q_exact, linestyle = '-', label = \"exact\")\n",
    "\n",
    "# plot approximate solution (use discrete points with no connecting line)\n",
    "ax.plot(t, Q_approx, linestyle = ':', label = \"approximate\")\n",
    "\n",
    "plt.legend()\n",
    "plt.xlabel(\"time (units)\")\n",
    "plt.ylabel(\"Capacitor charge (units)\")"
   ]
  },
  {
   "cell_type": "code",
   "execution_count": null,
   "metadata": {},
   "outputs": [],
   "source": [
    "# Write a function to calculate the cumulative error\n",
    "# hint, try reading the help file on np.sum\n",
    "\n",
    "def cumulative_error(dt, t_final, R, C, Q0):\n",
    "    # error = abs(approximate - exact)"
   ]
  },
  {
   "cell_type": "code",
   "execution_count": null,
   "metadata": {},
   "outputs": [],
   "source": []
  }
 ],
 "metadata": {
  "kernelspec": {
   "display_name": "Python 3",
   "language": "python",
   "name": "python3"
  },
  "language_info": {
   "codemirror_mode": {
    "name": "ipython",
    "version": 3
   },
   "file_extension": ".py",
   "mimetype": "text/x-python",
   "name": "python",
   "nbconvert_exporter": "python",
   "pygments_lexer": "ipython3",
<<<<<<< HEAD
   "version": "3.6.7"
=======
   "version": "3.6.6"
>>>>>>> upstream/master
  }
 },
 "nbformat": 4,
 "nbformat_minor": 2
}
